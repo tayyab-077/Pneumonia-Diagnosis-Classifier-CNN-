{
 "cells": [
  {
   "cell_type": "code",
   "execution_count": 6,
   "id": "ead8cdf6-1006-43c3-a2f2-f56ecdeeda16",
   "metadata": {},
   "outputs": [
    {
     "name": "stderr",
     "output_type": "stream",
     "text": [
      "WARNING:absl:Compiled the loaded model, but the compiled metrics have yet to be built. `model.compile_metrics` will be empty until you train or evaluate the model.\n"
     ]
    },
    {
     "name": "stdout",
     "output_type": "stream",
     "text": [
      "\n",
      "--- All Layer Names ---\n",
      "0: conv2d (Conv2D) - Output shape: Unavailable until built\n",
      "1: max_pooling2d (MaxPooling2D) - Output shape: Unavailable until built\n",
      "2: conv2d_1 (Conv2D) - Output shape: Unavailable until built\n",
      "3: max_pooling2d_1 (MaxPooling2D) - Output shape: Unavailable until built\n",
      "4: conv2d_2 (Conv2D) - Output shape: Unavailable until built\n",
      "5: max_pooling2d_2 (MaxPooling2D) - Output shape: Unavailable until built\n",
      "6: flatten (Flatten) - Output shape: Unavailable until built\n",
      "7: dense (Dense) - Output shape: Unavailable until built\n",
      "8: dropout (Dropout) - Output shape: Unavailable until built\n",
      "9: dense_1 (Dense) - Output shape: Unavailable until built\n",
      "\n",
      "Last Conv Layer: conv2d_2\n"
     ]
    }
   ],
   "source": [
    "# from tensorflow.keras.models import load_model\n",
    "\n",
    "# # Load your model\n",
    "# model = load_model(\"pneumonia_cnn_model.h5\")\n",
    "\n",
    "# # Print model summary to see layer details\n",
    "# model.summary()\n",
    "\n",
    "# # Print the input shape the model expects\n",
    "# print(\"\\nModel input shape:\", model.input_shape)\n",
    "\n",
    "\n",
    "import tensorflow as tf\n",
    "\n",
    "model = tf.keras.models.load_model(\"pneumonia_cnn_model.h5\")\n",
    "\n",
    "print(\"\\n--- All Layer Names ---\")\n",
    "for i, layer in enumerate(model.layers):\n",
    "    try:\n",
    "        shape = layer.output_shape\n",
    "    except:\n",
    "        shape = \"Unavailable until built\"\n",
    "    print(f\"{i}: {layer.name} ({layer.__class__.__name__}) - Output shape: {shape}\")\n",
    "\n",
    "# Find last Conv2D layer\n",
    "conv_layers = [layer.name for layer in model.layers if isinstance(layer, tf.keras.layers.Conv2D)]\n",
    "print(\"\\nLast Conv Layer:\", conv_layers[-1] if conv_layers else \"No Conv2D layer found\")\n"
   ]
  },
  {
   "cell_type": "code",
   "execution_count": null,
   "id": "6f987922-0050-4142-927e-ac5db37e4e71",
   "metadata": {},
   "outputs": [],
   "source": []
  }
 ],
 "metadata": {
  "kernelspec": {
   "display_name": "Python 3 (ipykernel)",
   "language": "python",
   "name": "python3"
  },
  "language_info": {
   "codemirror_mode": {
    "name": "ipython",
    "version": 3
   },
   "file_extension": ".py",
   "mimetype": "text/x-python",
   "name": "python",
   "nbconvert_exporter": "python",
   "pygments_lexer": "ipython3",
   "version": "3.12.2"
  }
 },
 "nbformat": 4,
 "nbformat_minor": 5
}
