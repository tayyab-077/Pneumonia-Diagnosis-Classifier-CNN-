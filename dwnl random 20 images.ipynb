{
 "cells": [
  {
   "cell_type": "code",
   "execution_count": 1,
   "id": "6ef0dee8-0d00-41b9-9e46-336adb8af08d",
   "metadata": {},
   "outputs": [],
   "source": [
    "import os\n",
    "import shutil\n",
    "\n",
    "# 1️⃣ Install Kaggle API (only once)\n",
    "os.system(\"pip install kaggle\")\n",
    "\n",
    "# 2️⃣ Make Kaggle directory for API key\n",
    "os.makedirs(os.path.expanduser(\"~/.kaggle\"), exist_ok=True)\n",
    "shutil.copy(\"kaggle.json\", os.path.expanduser(\"~/.kaggle/kaggle.json\"))\n",
    "os.chmod(os.path.expanduser(\"~/.kaggle/kaggle.json\"), 0o600)\n"
   ]
  },
  {
   "cell_type": "code",
   "execution_count": 2,
   "id": "b59f5d48-74a6-428b-b109-ae241c7ab010",
   "metadata": {},
   "outputs": [
    {
     "data": {
      "text/plain": [
       "1"
      ]
     },
     "execution_count": 2,
     "metadata": {},
     "output_type": "execute_result"
    }
   ],
   "source": [
    "\n",
    "# 3️⃣ Download Chest X-ray dataset from Kaggle\n",
    "os.system(\"kaggle datasets download -d paultimothymooney/chest-xray-pneumonia\")\n",
    "os.system(\"unzip -q chest-xray-pneumonia.zip -d chest_xray_data\")\n",
    "\n",
    "\n"
   ]
  },
  {
   "cell_type": "code",
   "execution_count": 5,
   "id": "2d7242fa-5eda-4526-acfe-6fc3d24c625d",
   "metadata": {},
   "outputs": [
    {
     "name": "stdout",
     "output_type": "stream",
     "text": [
      "✅ Mixed set created with 20 images.\n"
     ]
    }
   ],
   "source": [
    "\n",
    "# 4️⃣ Create mixed dataset\n",
    "normal_src = r\"C:\\Users\\Tayyab\\Desktop\\2025 again ml projects prac\\Aug 2025 combine all 10 algorithms into one script\\Pneumonia Detection\\chest-xray-pneumonia\\chest_xray/train/NORMAL\"\n",
    "pneumonia_src = r\"C:\\Users\\Tayyab\\Desktop\\2025 again ml projects prac\\Aug 2025 combine all 10 algorithms into one script\\Pneumonia Detection\\chest-xray-pneumonia\\chest_xray/train/PNEUMONIA\"\n",
    "dest_dir = \"mixed_images\"\n",
    "os.makedirs(dest_dir, exist_ok=True)\n",
    "\n",
    "# Copy 10 normal\n",
    "for i, file in enumerate(os.listdir(normal_src)):\n",
    "    if i >= 10:\n",
    "        break\n",
    "    shutil.copy(os.path.join(normal_src, file), os.path.join(dest_dir, f\"normal_{i}.jpg\"))\n",
    "\n",
    "# Copy 10 pneumonia\n",
    "for i, file in enumerate(os.listdir(pneumonia_src)):\n",
    "    if i >= 10:\n",
    "        break\n",
    "    shutil.copy(os.path.join(pneumonia_src, file), os.path.join(dest_dir, f\"pneumonia_{i}.jpg\"))\n",
    "\n",
    "print(f\"✅ Mixed set created with {len(os.listdir(dest_dir))} images.\")\n"
   ]
  },
  {
   "cell_type": "code",
   "execution_count": null,
   "id": "359f3f51-28ab-457c-a792-e4d68cc7bc9e",
   "metadata": {},
   "outputs": [],
   "source": []
  }
 ],
 "metadata": {
  "kernelspec": {
   "display_name": "Python 3 (ipykernel)",
   "language": "python",
   "name": "python3"
  },
  "language_info": {
   "codemirror_mode": {
    "name": "ipython",
    "version": 3
   },
   "file_extension": ".py",
   "mimetype": "text/x-python",
   "name": "python",
   "nbconvert_exporter": "python",
   "pygments_lexer": "ipython3",
   "version": "3.12.2"
  }
 },
 "nbformat": 4,
 "nbformat_minor": 5
}
